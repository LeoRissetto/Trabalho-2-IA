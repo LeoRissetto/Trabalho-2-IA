{
 "cells": [
  {
   "cell_type": "markdown",
   "id": "bc6bda9c",
   "metadata": {},
   "source": [
    "# Trabalho 2 IA\n",
    "\n",
    "## Membros\n",
    "\n",
    "- Leonardo Gueno Rissetto (13676482) - Presente em aula\n",
    "- Lucas Lima Romero (13676325) - Presente em aula\n",
    "- Luciano Gonçalves Lopes Filho (13676520) - Presente em aula\n",
    "- Marco Antonio Gaspar Garcia (11833581) - Presente em aula\n",
    "- Thiago Kashivagui Gonçalves (13676579) - Presente em aula\n",
    "\n",
    "## Escolha dos Dados\n",
    "\n",
    "Heurística para escolha dos dados:\n",
    "1.  Cada um procurou um tema que fosse de interesse de forma individual \n",
    "2.  Cada um apresentou um dataset que julgou ser interessante \n",
    "3.  Entrou-se em consenso quanto a escolha do tema\n",
    "4.  Procuramos um dataset de melhor qualidade e com mais dados sobre o assunto escolhido\n",
    "\n",
    "## Link Kaggle\n",
    "\n",
    "https://www.kaggle.com/datasets/iammustafatz/diabetes-prediction-dataset\n",
    "\n",
    "## Preparação de Dados para Modelo Preditivo de Diabetes\n",
    "Este notebook realiza a preparação dos dados do dataset `diabetes_prediction_dataset.csv` para aplicação em modelos preditivos de diabetes.\n",
    "\n",
    "Divisão de tarefas para preparação dos dados:\n",
    "- Luciano ficou responsável pela parte inicial de caracterização dos dados\n",
    "- Marco e Lucas ficaram responsáveis pela parte de exploração dos dados, fase que visa entender melhor as características e padrões dos dados\n",
    "- Leonardo e Thiago ficaram responsáveis pela parte de pré-processamento dos dados\n"
   ]
  },
  {
   "cell_type": "markdown",
   "id": "3dda619d",
   "metadata": {},
   "source": [
    "## 1. Importação das Bibliotecas\n",
    "Importação das bibliotecas necessárias para análise e preparação dos dados."
   ]
  },
  {
   "cell_type": "code",
   "execution_count": 2,
   "id": "3e4ab6bd",
   "metadata": {},
   "outputs": [],
   "source": [
    "import pandas as pd\n",
    "import numpy as np\n",
    "import matplotlib.pyplot as plt\n",
    "import seaborn as sns\n",
    "from sklearn.preprocessing import LabelEncoder, StandardScaler, MinMaxScaler\n",
    "import warnings\n",
    "warnings.filterwarnings('ignore')"
   ]
  },
  {
   "cell_type": "markdown",
   "id": "070e3ea7",
   "metadata": {},
   "source": [
    "## 2. Carregamento e Visualização Inicial dos Dados\n",
    "Carregamento do dataset e visualização das primeiras linhas."
   ]
  },
  {
   "cell_type": "code",
   "execution_count": 3,
   "id": "88e915c2",
   "metadata": {},
   "outputs": [
    {
     "data": {
      "text/html": [
       "<div>\n",
       "<style scoped>\n",
       "    .dataframe tbody tr th:only-of-type {\n",
       "        vertical-align: middle;\n",
       "    }\n",
       "\n",
       "    .dataframe tbody tr th {\n",
       "        vertical-align: top;\n",
       "    }\n",
       "\n",
       "    .dataframe thead th {\n",
       "        text-align: right;\n",
       "    }\n",
       "</style>\n",
       "<table border=\"1\" class=\"dataframe\">\n",
       "  <thead>\n",
       "    <tr style=\"text-align: right;\">\n",
       "      <th></th>\n",
       "      <th>gender</th>\n",
       "      <th>age</th>\n",
       "      <th>hypertension</th>\n",
       "      <th>heart_disease</th>\n",
       "      <th>smoking_history</th>\n",
       "      <th>bmi</th>\n",
       "      <th>HbA1c_level</th>\n",
       "      <th>blood_glucose_level</th>\n",
       "      <th>diabetes</th>\n",
       "    </tr>\n",
       "  </thead>\n",
       "  <tbody>\n",
       "    <tr>\n",
       "      <th>0</th>\n",
       "      <td>Female</td>\n",
       "      <td>80.0</td>\n",
       "      <td>0</td>\n",
       "      <td>1</td>\n",
       "      <td>never</td>\n",
       "      <td>25.19</td>\n",
       "      <td>6.6</td>\n",
       "      <td>140</td>\n",
       "      <td>0</td>\n",
       "    </tr>\n",
       "    <tr>\n",
       "      <th>1</th>\n",
       "      <td>Female</td>\n",
       "      <td>54.0</td>\n",
       "      <td>0</td>\n",
       "      <td>0</td>\n",
       "      <td>No Info</td>\n",
       "      <td>27.32</td>\n",
       "      <td>6.6</td>\n",
       "      <td>80</td>\n",
       "      <td>0</td>\n",
       "    </tr>\n",
       "    <tr>\n",
       "      <th>2</th>\n",
       "      <td>Male</td>\n",
       "      <td>28.0</td>\n",
       "      <td>0</td>\n",
       "      <td>0</td>\n",
       "      <td>never</td>\n",
       "      <td>27.32</td>\n",
       "      <td>5.7</td>\n",
       "      <td>158</td>\n",
       "      <td>0</td>\n",
       "    </tr>\n",
       "    <tr>\n",
       "      <th>3</th>\n",
       "      <td>Female</td>\n",
       "      <td>36.0</td>\n",
       "      <td>0</td>\n",
       "      <td>0</td>\n",
       "      <td>current</td>\n",
       "      <td>23.45</td>\n",
       "      <td>5.0</td>\n",
       "      <td>155</td>\n",
       "      <td>0</td>\n",
       "    </tr>\n",
       "    <tr>\n",
       "      <th>4</th>\n",
       "      <td>Male</td>\n",
       "      <td>76.0</td>\n",
       "      <td>1</td>\n",
       "      <td>1</td>\n",
       "      <td>current</td>\n",
       "      <td>20.14</td>\n",
       "      <td>4.8</td>\n",
       "      <td>155</td>\n",
       "      <td>0</td>\n",
       "    </tr>\n",
       "  </tbody>\n",
       "</table>\n",
       "</div>"
      ],
      "text/plain": [
       "   gender   age  hypertension  heart_disease smoking_history    bmi  \\\n",
       "0  Female  80.0             0              1           never  25.19   \n",
       "1  Female  54.0             0              0         No Info  27.32   \n",
       "2    Male  28.0             0              0           never  27.32   \n",
       "3  Female  36.0             0              0         current  23.45   \n",
       "4    Male  76.0             1              1         current  20.14   \n",
       "\n",
       "   HbA1c_level  blood_glucose_level  diabetes  \n",
       "0          6.6                  140         0  \n",
       "1          6.6                   80         0  \n",
       "2          5.7                  158         0  \n",
       "3          5.0                  155         0  \n",
       "4          4.8                  155         0  "
      ]
     },
     "execution_count": 3,
     "metadata": {},
     "output_type": "execute_result"
    }
   ],
   "source": [
    "# Carregar o dataset\n",
    "df = pd.read_csv('../Dataset/diabetes_prediction_dataset.csv')\n",
    "# Visualizar as primeiras linhas\n",
    "df.head()"
   ]
  },
  {
   "cell_type": "markdown",
   "id": "caf8e686",
   "metadata": {},
   "source": [
    "## 3. Informações Gerais e Tratamento de Valores\n",
    "Verificação de tipos de dados, valores ausentes e tratamento caso necessário."
   ]
  },
  {
   "cell_type": "code",
   "execution_count": 4,
   "id": "3c12dc00",
   "metadata": {},
   "outputs": [
    {
     "name": "stdout",
     "output_type": "stream",
     "text": [
      "<class 'pandas.core.frame.DataFrame'>\n",
      "RangeIndex: 100000 entries, 0 to 99999\n",
      "Data columns (total 9 columns):\n",
      " #   Column               Non-Null Count   Dtype  \n",
      "---  ------               --------------   -----  \n",
      " 0   gender               100000 non-null  object \n",
      " 1   age                  100000 non-null  float64\n",
      " 2   hypertension         100000 non-null  int64  \n",
      " 3   heart_disease        100000 non-null  int64  \n",
      " 4   smoking_history      100000 non-null  object \n",
      " 5   bmi                  100000 non-null  float64\n",
      " 6   HbA1c_level          100000 non-null  float64\n",
      " 7   blood_glucose_level  100000 non-null  int64  \n",
      " 8   diabetes             100000 non-null  int64  \n",
      "dtypes: float64(3), int64(4), object(2)\n",
      "memory usage: 6.9+ MB\n"
     ]
    }
   ],
   "source": [
    "# Informações gerais\n",
    "df.info()"
   ]
  },
  {
   "cell_type": "code",
   "execution_count": 5,
   "id": "27ac8a26",
   "metadata": {},
   "outputs": [
    {
     "data": {
      "text/plain": [
       "gender                 0\n",
       "age                    0\n",
       "hypertension           0\n",
       "heart_disease          0\n",
       "smoking_history        0\n",
       "bmi                    0\n",
       "HbA1c_level            0\n",
       "blood_glucose_level    0\n",
       "diabetes               0\n",
       "dtype: int64"
      ]
     },
     "execution_count": 5,
     "metadata": {},
     "output_type": "execute_result"
    }
   ],
   "source": [
    "# Verificar valores ausentes\n",
    "df.isnull().sum()"
   ]
  },
  {
   "cell_type": "code",
   "execution_count": 6,
   "id": "e7c7a92d",
   "metadata": {},
   "outputs": [],
   "source": [
    "# Preencher valores ausentes com a mediana (numéricos) ou moda (categóricos)\n",
    "for col in df.columns:\n",
    "    if df[col].isnull().sum() > 0:\n",
    "        if df[col].dtype == 'object':\n",
    "            df[col].fillna(df[col].mode()[0], inplace=True)\n",
    "        else:\n",
    "            df[col].fillna(df[col].median(), inplace=True)"
   ]
  },
  {
   "cell_type": "code",
   "execution_count": 7,
   "id": "92dfa1d2",
   "metadata": {},
   "outputs": [
    {
     "data": {
      "text/plain": [
       "gender\n",
       "Female    56161\n",
       "Male      39967\n",
       "Name: count, dtype: int64"
      ]
     },
     "execution_count": 7,
     "metadata": {},
     "output_type": "execute_result"
    }
   ],
   "source": [
    "# Remover linhas duplicadas\n",
    "df = df.drop_duplicates()\n",
    "# Remover linhas onde o gênero é 'Other' já que é uma parte muito pequena da amostra\n",
    "if 'gender' in df.columns:\n",
    "    df = df[df['gender'] != 'Other']\n",
    "# Conferir resultado\n",
    "df['gender'].value_counts() if 'gender' in df.columns else None"
   ]
  },
  {
   "cell_type": "markdown",
   "id": "b2a00e38",
   "metadata": {},
   "source": [
    "## 4. Análise Exploratória dos Dados\n",
    "Visualização de estatísticas descritivas e gráficos para entender a distribuição das variáveis."
   ]
  },
  {
   "cell_type": "code",
   "execution_count": 8,
   "id": "da31cd3b",
   "metadata": {},
   "outputs": [
    {
     "data": {
      "text/html": [
       "<div>\n",
       "<style scoped>\n",
       "    .dataframe tbody tr th:only-of-type {\n",
       "        vertical-align: middle;\n",
       "    }\n",
       "\n",
       "    .dataframe tbody tr th {\n",
       "        vertical-align: top;\n",
       "    }\n",
       "\n",
       "    .dataframe thead th {\n",
       "        text-align: right;\n",
       "    }\n",
       "</style>\n",
       "<table border=\"1\" class=\"dataframe\">\n",
       "  <thead>\n",
       "    <tr style=\"text-align: right;\">\n",
       "      <th></th>\n",
       "      <th>gender</th>\n",
       "      <th>age</th>\n",
       "      <th>hypertension</th>\n",
       "      <th>heart_disease</th>\n",
       "      <th>smoking_history</th>\n",
       "      <th>bmi</th>\n",
       "      <th>HbA1c_level</th>\n",
       "      <th>blood_glucose_level</th>\n",
       "      <th>diabetes</th>\n",
       "    </tr>\n",
       "  </thead>\n",
       "  <tbody>\n",
       "    <tr>\n",
       "      <th>count</th>\n",
       "      <td>96128</td>\n",
       "      <td>96128.000000</td>\n",
       "      <td>96128.000000</td>\n",
       "      <td>96128.000000</td>\n",
       "      <td>96128</td>\n",
       "      <td>96128.000000</td>\n",
       "      <td>96128.000000</td>\n",
       "      <td>96128.000000</td>\n",
       "      <td>96128.000000</td>\n",
       "    </tr>\n",
       "    <tr>\n",
       "      <th>unique</th>\n",
       "      <td>2</td>\n",
       "      <td>NaN</td>\n",
       "      <td>NaN</td>\n",
       "      <td>NaN</td>\n",
       "      <td>6</td>\n",
       "      <td>NaN</td>\n",
       "      <td>NaN</td>\n",
       "      <td>NaN</td>\n",
       "      <td>NaN</td>\n",
       "    </tr>\n",
       "    <tr>\n",
       "      <th>top</th>\n",
       "      <td>Female</td>\n",
       "      <td>NaN</td>\n",
       "      <td>NaN</td>\n",
       "      <td>NaN</td>\n",
       "      <td>never</td>\n",
       "      <td>NaN</td>\n",
       "      <td>NaN</td>\n",
       "      <td>NaN</td>\n",
       "      <td>NaN</td>\n",
       "    </tr>\n",
       "    <tr>\n",
       "      <th>freq</th>\n",
       "      <td>56161</td>\n",
       "      <td>NaN</td>\n",
       "      <td>NaN</td>\n",
       "      <td>NaN</td>\n",
       "      <td>34395</td>\n",
       "      <td>NaN</td>\n",
       "      <td>NaN</td>\n",
       "      <td>NaN</td>\n",
       "      <td>NaN</td>\n",
       "    </tr>\n",
       "    <tr>\n",
       "      <th>mean</th>\n",
       "      <td>NaN</td>\n",
       "      <td>41.796617</td>\n",
       "      <td>0.077615</td>\n",
       "      <td>0.040810</td>\n",
       "      <td>NaN</td>\n",
       "      <td>27.321450</td>\n",
       "      <td>5.532633</td>\n",
       "      <td>138.218001</td>\n",
       "      <td>0.088237</td>\n",
       "    </tr>\n",
       "    <tr>\n",
       "      <th>std</th>\n",
       "      <td>NaN</td>\n",
       "      <td>22.463329</td>\n",
       "      <td>0.267567</td>\n",
       "      <td>0.197851</td>\n",
       "      <td>NaN</td>\n",
       "      <td>6.767811</td>\n",
       "      <td>1.073225</td>\n",
       "      <td>40.911190</td>\n",
       "      <td>0.283640</td>\n",
       "    </tr>\n",
       "    <tr>\n",
       "      <th>min</th>\n",
       "      <td>NaN</td>\n",
       "      <td>0.080000</td>\n",
       "      <td>0.000000</td>\n",
       "      <td>0.000000</td>\n",
       "      <td>NaN</td>\n",
       "      <td>10.010000</td>\n",
       "      <td>3.500000</td>\n",
       "      <td>80.000000</td>\n",
       "      <td>0.000000</td>\n",
       "    </tr>\n",
       "    <tr>\n",
       "      <th>25%</th>\n",
       "      <td>NaN</td>\n",
       "      <td>24.000000</td>\n",
       "      <td>0.000000</td>\n",
       "      <td>0.000000</td>\n",
       "      <td>NaN</td>\n",
       "      <td>23.400000</td>\n",
       "      <td>4.800000</td>\n",
       "      <td>100.000000</td>\n",
       "      <td>0.000000</td>\n",
       "    </tr>\n",
       "    <tr>\n",
       "      <th>50%</th>\n",
       "      <td>NaN</td>\n",
       "      <td>43.000000</td>\n",
       "      <td>0.000000</td>\n",
       "      <td>0.000000</td>\n",
       "      <td>NaN</td>\n",
       "      <td>27.320000</td>\n",
       "      <td>5.800000</td>\n",
       "      <td>140.000000</td>\n",
       "      <td>0.000000</td>\n",
       "    </tr>\n",
       "    <tr>\n",
       "      <th>75%</th>\n",
       "      <td>NaN</td>\n",
       "      <td>59.000000</td>\n",
       "      <td>0.000000</td>\n",
       "      <td>0.000000</td>\n",
       "      <td>NaN</td>\n",
       "      <td>29.860000</td>\n",
       "      <td>6.200000</td>\n",
       "      <td>159.000000</td>\n",
       "      <td>0.000000</td>\n",
       "    </tr>\n",
       "    <tr>\n",
       "      <th>max</th>\n",
       "      <td>NaN</td>\n",
       "      <td>80.000000</td>\n",
       "      <td>1.000000</td>\n",
       "      <td>1.000000</td>\n",
       "      <td>NaN</td>\n",
       "      <td>95.690000</td>\n",
       "      <td>9.000000</td>\n",
       "      <td>300.000000</td>\n",
       "      <td>1.000000</td>\n",
       "    </tr>\n",
       "  </tbody>\n",
       "</table>\n",
       "</div>"
      ],
      "text/plain": [
       "        gender           age  hypertension  heart_disease smoking_history  \\\n",
       "count    96128  96128.000000  96128.000000   96128.000000           96128   \n",
       "unique       2           NaN           NaN            NaN               6   \n",
       "top     Female           NaN           NaN            NaN           never   \n",
       "freq     56161           NaN           NaN            NaN           34395   \n",
       "mean       NaN     41.796617      0.077615       0.040810             NaN   \n",
       "std        NaN     22.463329      0.267567       0.197851             NaN   \n",
       "min        NaN      0.080000      0.000000       0.000000             NaN   \n",
       "25%        NaN     24.000000      0.000000       0.000000             NaN   \n",
       "50%        NaN     43.000000      0.000000       0.000000             NaN   \n",
       "75%        NaN     59.000000      0.000000       0.000000             NaN   \n",
       "max        NaN     80.000000      1.000000       1.000000             NaN   \n",
       "\n",
       "                 bmi   HbA1c_level  blood_glucose_level      diabetes  \n",
       "count   96128.000000  96128.000000         96128.000000  96128.000000  \n",
       "unique           NaN           NaN                  NaN           NaN  \n",
       "top              NaN           NaN                  NaN           NaN  \n",
       "freq             NaN           NaN                  NaN           NaN  \n",
       "mean       27.321450      5.532633           138.218001      0.088237  \n",
       "std         6.767811      1.073225            40.911190      0.283640  \n",
       "min        10.010000      3.500000            80.000000      0.000000  \n",
       "25%        23.400000      4.800000           100.000000      0.000000  \n",
       "50%        27.320000      5.800000           140.000000      0.000000  \n",
       "75%        29.860000      6.200000           159.000000      0.000000  \n",
       "max        95.690000      9.000000           300.000000      1.000000  "
      ]
     },
     "execution_count": 8,
     "metadata": {},
     "output_type": "execute_result"
    }
   ],
   "source": [
    "# Estatísticas descritivas\n",
    "df.describe(include='all')"
   ]
  },
  {
   "cell_type": "code",
   "execution_count": 9,
   "id": "a6e0561e",
   "metadata": {},
   "outputs": [
    {
     "data": {
      "image/png": "[encoded data removed]",
      "text/plain": [
       "<Figure size 1200x800 with 9 Axes>"
      ]
     },
     "metadata": {},
     "output_type": "display_data"
    }
   ],
   "source": [
    "# Visualização de distribuições das variáveis numéricas\n",
    "df.hist(figsize=(12,8))\n",
    "plt.tight_layout()\n",
    "plt.show()"
   ]
  },
  {
   "cell_type": "code",
   "execution_count": 10,
   "id": "052a1a1d",
   "metadata": {},
   "outputs": [
    {
     "data": {
      "image/png": "[encoded data removed]",
      "text/plain": [
       "<Figure size 600x300 with 1 Axes>"
      ]
     },
     "metadata": {},
     "output_type": "display_data"
    },
    {
     "data": {
      "image/png": "[encoded data removed]",
      "text/plain": [
       "<Figure size 600x300 with 1 Axes>"
      ]
     },
     "metadata": {},
     "output_type": "display_data"
    }
   ],
   "source": [
    "# Visualização de variáveis categóricas\n",
    "cat_cols = df.select_dtypes(include='object').columns\n",
    "for col in cat_cols:\n",
    "    plt.figure(figsize=(6,3))\n",
    "    sns.countplot(x=col, data=df)\n",
    "    plt.title(f'Distribuição de {col}')\n",
    "    plt.show()"
   ]
  },
  {
   "cell_type": "markdown",
   "id": "e748f5f9",
   "metadata": {},
   "source": [
    "## 5. Codificação de Variáveis Categóricas\n",
    "Transformação de variáveis categóricas em numéricas para uso em modelos."
   ]
  },
  {
   "cell_type": "code",
   "execution_count": 11,
   "id": "8290d30a",
   "metadata": {},
   "outputs": [],
   "source": [
    "# Codificação de variáveis categóricas\n",
    "for col in cat_cols:\n",
    "    le = LabelEncoder()\n",
    "    df[col] = le.fit_transform(df[col])"
   ]
  },
  {
   "cell_type": "markdown",
   "id": "a13b6472",
   "metadata": {},
   "source": [
    "## 6. Normalização/Padronização dos Dados\n",
    "Aplicação de normalização ou padronização nas variáveis numéricas."
   ]
  },
  {
   "cell_type": "code",
   "execution_count": 12,
   "id": "1a8b3522",
   "metadata": {},
   "outputs": [],
   "source": [
    "# Selecionar colunas numéricas\n",
    "num_cols = df.select_dtypes(include=np.number).columns\n",
    "# Padronização (z-score)\n",
    "scaler = StandardScaler()\n",
    "df[num_cols] = scaler.fit_transform(df[num_cols])"
   ]
  },
  {
   "cell_type": "markdown",
   "id": "f0290dbf",
   "metadata": {},
   "source": [
    "## 7. Dataset Pronto para Modelagem\n",
    "Exibição do dataset final, pronto para ser utilizado em modelos preditivos."
   ]
  },
  {
   "cell_type": "code",
   "execution_count": 13,
   "id": "e5484689",
   "metadata": {},
   "outputs": [
    {
     "data": {
      "text/html": [
       "<div>\n",
       "<style scoped>\n",
       "    .dataframe tbody tr th:only-of-type {\n",
       "        vertical-align: middle;\n",
       "    }\n",
       "\n",
       "    .dataframe tbody tr th {\n",
       "        vertical-align: top;\n",
       "    }\n",
       "\n",
       "    .dataframe thead th {\n",
       "        text-align: right;\n",
       "    }\n",
       "</style>\n",
       "<table border=\"1\" class=\"dataframe\">\n",
       "  <thead>\n",
       "    <tr style=\"text-align: right;\">\n",
       "      <th></th>\n",
       "      <th>gender</th>\n",
       "      <th>age</th>\n",
       "      <th>hypertension</th>\n",
       "      <th>heart_disease</th>\n",
       "      <th>smoking_history</th>\n",
       "      <th>bmi</th>\n",
       "      <th>HbA1c_level</th>\n",
       "      <th>blood_glucose_level</th>\n",
       "      <th>diabetes</th>\n",
       "    </tr>\n",
       "  </thead>\n",
       "  <tbody>\n",
       "    <tr>\n",
       "      <th>0</th>\n",
       "      <td>-0.843594</td>\n",
       "      <td>1.700709</td>\n",
       "      <td>-0.290080</td>\n",
       "      <td>4.848061</td>\n",
       "      <td>0.941024</td>\n",
       "      <td>-0.314941</td>\n",
       "      <td>0.994547</td>\n",
       "      <td>0.043558</td>\n",
       "      <td>-0.311088</td>\n",
       "    </tr>\n",
       "    <tr>\n",
       "      <th>1</th>\n",
       "      <td>-0.843594</td>\n",
       "      <td>0.543261</td>\n",
       "      <td>-0.290080</td>\n",
       "      <td>-0.206268</td>\n",
       "      <td>-1.186804</td>\n",
       "      <td>-0.000214</td>\n",
       "      <td>0.994547</td>\n",
       "      <td>-1.423041</td>\n",
       "      <td>-0.311088</td>\n",
       "    </tr>\n",
       "    <tr>\n",
       "      <th>2</th>\n",
       "      <td>1.185405</td>\n",
       "      <td>-0.614187</td>\n",
       "      <td>-0.290080</td>\n",
       "      <td>-0.206268</td>\n",
       "      <td>0.941024</td>\n",
       "      <td>-0.000214</td>\n",
       "      <td>0.155949</td>\n",
       "      <td>0.483538</td>\n",
       "      <td>-0.311088</td>\n",
       "    </tr>\n",
       "    <tr>\n",
       "      <th>3</th>\n",
       "      <td>-0.843594</td>\n",
       "      <td>-0.258049</td>\n",
       "      <td>-0.290080</td>\n",
       "      <td>-0.206268</td>\n",
       "      <td>-0.654847</td>\n",
       "      <td>-0.572042</td>\n",
       "      <td>-0.496294</td>\n",
       "      <td>0.410208</td>\n",
       "      <td>-0.311088</td>\n",
       "    </tr>\n",
       "    <tr>\n",
       "      <th>4</th>\n",
       "      <td>1.185405</td>\n",
       "      <td>1.522640</td>\n",
       "      <td>3.447327</td>\n",
       "      <td>4.848061</td>\n",
       "      <td>-0.654847</td>\n",
       "      <td>-1.061124</td>\n",
       "      <td>-0.682649</td>\n",
       "      <td>0.410208</td>\n",
       "      <td>-0.311088</td>\n",
       "    </tr>\n",
       "  </tbody>\n",
       "</table>\n",
       "</div>"
      ],
      "text/plain": [
       "     gender       age  hypertension  heart_disease  smoking_history       bmi  \\\n",
       "0 -0.843594  1.700709     -0.290080       4.848061         0.941024 -0.314941   \n",
       "1 -0.843594  0.543261     -0.290080      -0.206268        -1.186804 -0.000214   \n",
       "2  1.185405 -0.614187     -0.290080      -0.206268         0.941024 -0.000214   \n",
       "3 -0.843594 -0.258049     -0.290080      -0.206268        -0.654847 -0.572042   \n",
       "4  1.185405  1.522640      3.447327       4.848061        -0.654847 -1.061124   \n",
       "\n",
       "   HbA1c_level  blood_glucose_level  diabetes  \n",
       "0     0.994547             0.043558 -0.311088  \n",
       "1     0.994547            -1.423041 -0.311088  \n",
       "2     0.155949             0.483538 -0.311088  \n",
       "3    -0.496294             0.410208 -0.311088  \n",
       "4    -0.682649             0.410208 -0.311088  "
      ]
     },
     "execution_count": 13,
     "metadata": {},
     "output_type": "execute_result"
    }
   ],
   "source": [
    "df.head()"
   ]
  }
 ],
 "metadata": {
  "kernelspec": {
   "display_name": ".venv",
   "language": "python",
   "name": "python3"
  },
  "language_info": {
   "codemirror_mode": {
    "name": "ipython",
    "version": 3
   },
   "file_extension": ".py",
   "mimetype": "text/x-python",
   "name": "python",
   "nbconvert_exporter": "python",
   "pygments_lexer": "ipython3",
   "version": "3.13.3"
  }
 },
 "nbformat": 4,
 "nbformat_minor": 5
}
